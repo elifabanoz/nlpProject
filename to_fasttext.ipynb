{
 "cells": [
  {
   "cell_type": "code",
   "execution_count": 1,
   "metadata": {},
   "outputs": [],
   "source": [
    "import json\n",
    "import fasttext\n",
    "from sklearn.model_selection import train_test_split\n",
    "from sklearn.metrics import classification_report\n",
    "from sklearn.metrics import confusion_matrix\n",
    "import matplotlib.pyplot as plt\n",
    "import seaborn as sns\n",
    "from collections import Counter"
   ]
  },
  {
   "cell_type": "code",
   "execution_count": 2,
   "metadata": {},
   "outputs": [],
   "source": [
    "with open(\"labeled_reviews.json\", \"r\", encoding=\"utf-8\") as file:\n",
    "    labeled_data = json.load(file)"
   ]
  },
  {
   "cell_type": "code",
   "execution_count": 3,
   "metadata": {},
   "outputs": [],
   "source": [
    "# split data %80 for train, %20 for test\n",
    "train_data, test_data = train_test_split(labeled_data, test_size=0.2, random_state=42)"
   ]
  },
  {
   "cell_type": "code",
   "execution_count": 4,
   "metadata": {},
   "outputs": [],
   "source": [
    "# writing the FastText train data into a file\n",
    "with open(\"fasttext_train_data.txt\", \"w\", encoding=\"utf-8\") as train_file:\n",
    "    for review in train_data:\n",
    "        label = review[\"sentiment\"]\n",
    "        tokens = \" \".join(review[\"tokens\"])\n",
    "        train_file.write(f\"__label__{label} {tokens}\\n\")"
   ]
  },
  {
   "cell_type": "code",
   "execution_count": 5,
   "metadata": {},
   "outputs": [],
   "source": [
    "# writing the FastText test data into a file\n",
    "with open(\"fasttext_test_data.txt\", \"w\", encoding=\"utf-8\") as test_file:\n",
    "    for review in test_data:\n",
    "        label = review[\"sentiment\"]\n",
    "        tokens = \" \".join(review[\"tokens\"])\n",
    "        test_file.write(f\"__label__{label} {tokens}\\n\")"
   ]
  },
  {
   "cell_type": "code",
   "execution_count": 6,
   "metadata": {},
   "outputs": [],
   "source": [
    "# train fasttext model\n",
    "model = fasttext.train_supervised(input=\"fasttext_train_data.txt\", epoch=70, lr=0.1, wordNgrams=2)"
   ]
  },
  {
   "cell_type": "code",
   "execution_count": 7,
   "metadata": {},
   "outputs": [],
   "source": [
    "model.save_model(\"sentiment_model.bin\")"
   ]
  },
  {
   "cell_type": "code",
   "execution_count": 8,
   "metadata": {},
   "outputs": [],
   "source": [
    "true_labels = []\n",
    "predicted_labels = []"
   ]
  },
  {
   "cell_type": "code",
   "execution_count": 9,
   "metadata": {},
   "outputs": [],
   "source": [
    "for review in test_data:\n",
    "    tokens = \" \".join(review[\"tokens\"])\n",
    "    true_labels.append(review[\"sentiment\"])\n",
    "    prediction = model.predict(tokens)\n",
    "    predicted_labels.append(prediction[0][0].replace(\"__label__\", \"\"))"
   ]
  },
  {
   "cell_type": "code",
   "execution_count": 10,
   "metadata": {},
   "outputs": [
    {
     "name": "stdout",
     "output_type": "stream",
     "text": [
      "{'negative', 'positive', 'neutral'}\n",
      "{'negative', 'neutral', 'positive'}\n"
     ]
    }
   ],
   "source": [
    "print(set(true_labels))\n",
    "print(set(predicted_labels))\n"
   ]
  },
  {
   "cell_type": "code",
   "execution_count": 11,
   "metadata": {},
   "outputs": [
    {
     "name": "stdout",
     "output_type": "stream",
     "text": [
      "              precision    recall  f1-score   support\n",
      "\n",
      "    negative       0.84      0.72      0.78        29\n",
      "     neutral       0.84      0.75      0.79        28\n",
      "    positive       0.89      0.97      0.93        73\n",
      "\n",
      "    accuracy                           0.87       130\n",
      "   macro avg       0.86      0.82      0.83       130\n",
      "weighted avg       0.87      0.87      0.87       130\n",
      "\n"
     ]
    }
   ],
   "source": [
    "print(classification_report(true_labels, predicted_labels, target_names=[\"negative\", \"neutral\", \"positive\"]))"
   ]
  },
  {
   "cell_type": "code",
   "execution_count": 12,
   "metadata": {},
   "outputs": [],
   "source": [
    "true_labels = [review[\"sentiment\"] for review in test_data]\n",
    "predicted_labels = [model.predict(\" \".join(review[\"tokens\"]))[0][0].replace(\"__label__\", \"\") for review in test_data]\n"
   ]
  },
  {
   "cell_type": "code",
   "execution_count": 13,
   "metadata": {},
   "outputs": [
    {
     "name": "stdout",
     "output_type": "stream",
     "text": [
      "130 130\n"
     ]
    }
   ],
   "source": [
    "print(len(true_labels), len(predicted_labels))"
   ]
  },
  {
   "cell_type": "code",
   "execution_count": 14,
   "metadata": {},
   "outputs": [],
   "source": [
    "cm = confusion_matrix(true_labels, predicted_labels, labels=[\"positive\", \"negative\",\"neutral\"])"
   ]
  },
  {
   "cell_type": "code",
   "execution_count": 16,
   "metadata": {},
   "outputs": [],
   "source": [
    "labels = [\"Positive\", \"Negative\", \"Neutral\"]"
   ]
  },
  {
   "cell_type": "code",
   "execution_count": 17,
   "metadata": {},
   "outputs": [
    {
     "data": {
      "image/png": "[encoded data removed]",
      "text/plain": [
       "<Figure size 500x500 with 2 Axes>"
      ]
     },
     "metadata": {},
     "output_type": "display_data"
    }
   ],
   "source": [
    "plt.figure(figsize=(5, 5))\n",
    "sns.heatmap(cm, annot=True, fmt=\"d\", cmap=\"Greens\", xticklabels=labels, yticklabels=labels)\n",
    "plt.title(\"Confusion Matrix\")\n",
    "plt.xlabel(\"Predicted Class\")\n",
    "plt.ylabel(\"True Class\")\n",
    "plt.show()"
   ]
  },
  {
   "cell_type": "code",
   "execution_count": 18,
   "metadata": {},
   "outputs": [],
   "source": [
    "with open(\"filtered_products.json\", \"r\", encoding=\"utf-8\") as file:\n",
    "    products_data = json.load(file)"
   ]
  },
  {
   "cell_type": "code",
   "execution_count": 19,
   "metadata": {},
   "outputs": [],
   "source": [
    "for product in products_data:\n",
    "    for review in product[\"reviews\"]:\n",
    "        if \"predicted_sentiment\" not in review:\n",
    "            tokens = \" \".join(review[\"tokens\"])\n",
    "            prediction = model.predict(tokens)\n",
    "            predicted_label = prediction[0][0].replace(\"__label__\", \"\")\n",
    "            review[\"predicted_sentiment\"] = predicted_label"
   ]
  },
  {
   "cell_type": "code",
   "execution_count": 21,
   "metadata": {},
   "outputs": [],
   "source": [
    "# write prediction results into a file\n",
    "with open(\"predicted_products.json\", \"w\", encoding=\"utf-8\") as file:\n",
    "    json.dump(products_data, file, indent=2, ensure_ascii=False)"
   ]
  },
  {
   "cell_type": "code",
   "execution_count": 22,
   "metadata": {},
   "outputs": [],
   "source": [
    "file_path = \"predicted_products.json\""
   ]
  },
  {
   "cell_type": "code",
   "execution_count": 23,
   "metadata": {},
   "outputs": [],
   "source": [
    "with open(file_path, \"r\", encoding=\"utf-8\") as file:\n",
    "    data = json.load(file)"
   ]
  },
  {
   "cell_type": "code",
   "execution_count": 24,
   "metadata": {},
   "outputs": [
    {
     "name": "stdout",
     "output_type": "stream",
     "text": [
      "1. Name: Biotin 2000 Mcg 100 Tablet, Sentiment: positive, Review: ['hızlı', 'teslimat', 'özenli', 'paketleme']\n",
      "2. Name: Biotin 2000 Mcg 100 Tablet, Sentiment: neutral, Review: ['fiyatı', 'uygun', 'güzel', 'paketlenmiş', 'saç', 'dökülmem', 'aldım', 'umarım', 'yarar']\n",
      "3. Name: Biotin 2000 Mcg 100 Tablet, Sentiment: neutral, Review: ['güzel', 'paketlenmiş', 'hızlı', 'şeklide', 'elime', 'ulaştı', 'işe', 'yaramasını', 'umuyorum']\n",
      "4. Name: Biotin 2000 Mcg 100 Tablet, Sentiment: positive, Review: ['sürekli', 'kullandığım', 'güvenilir', 'bir', 'marka', 'paketlenmesi', 'gayet', 'başarılı', 'almak', 'isteyen', 'varsa', 'düşünmeden', 'markayı', 'tercih', 'etmeli']\n",
      "5. Name: Biotin 2000 Mcg 100 Tablet, Sentiment: negative, Review: ['bitmek', 'üzere', 'fayda', 'yok', 'maalesef']\n",
      "6. Name: Biotin 2000 Mcg 100 Tablet, Sentiment: negative, Review: ['2ay', 'old', 'kullanmaya', 'basladim', 'bi', 'etki', 'göremedim']\n",
      "7. Name: Microfer Şurup 250 ml, Sentiment: neutral, Review: ['boyu', 'baya', 'buyuk', 'tadida', 'guzel']\n",
      "8. Name: Biotin 2000 Mcg 100 Tablet, Sentiment: neutral, Review: ['kullanmadım', 'faydası', 'olacağını', 'düşünüyorum', 'sorunsuz', 'teslim', 'aldım']\n",
      "9. Name: Biotin 2000 Mcg 100 Tablet, Sentiment: negative, Review: ['eczaneden', 'aldigim', 'ürün', 'etkili', 'açıkçası', 'ben', 'fayda', 'görmedim', 'şişe', 'bitti']\n",
      "10. Name: Biotin 2000 Mcg 100 Tablet, Sentiment: positive, Review: ['yaklaşık', '20', 'gündür', 'kullanıyorum', 'saclarimda', 'dökülme', 'yine', 'oluyor', 'onceki', 'tomar', 'tomar', 'değil', 'azından', 'tirnaklarimda', 'baya', 'yaradigini', 'düşünüyorum', 'benim', 'tirnaklarimin', 'yapısı', 'ince', 'kirilgan', 'çokta', 'hizli', 'uzamiyor', 'bunu', 'kullanmaya', 'başladıktan', 'sonra', 'tirnaklarimin', 'yapisinin', 'biraz', 'sert', 'olduğunu', 'düşünüyorum', 'suanlik', 'olumlu', 'bi', 'etkisi', 'olduğunu', 'düşünüyorum', 'azından', 'alıp', 'denemeye', 'değer', 'kargo', 'konusunda', 'bi', 'sorun', 'yaşamadım', 'ayrica']\n",
      "11. Name: Microfer Şurup 250 ml, Sentiment: positive, Review: ['minik', 'hediyeleriniz', 'teşekkürler', 'ürün', 'güzel', 'paketlenmiş', 'hızlı', 'teslimat']\n",
      "12. Name: Microfer Şurup 250 ml, Sentiment: positive, Review: ['doktorumuz', 'tavsiye', 'etti', '3', 'uncu', 'şişemiz', 'oğlum', 'severek', 'iciyo', 'faydasını', 'gördük']\n",
      "13. Name: Microfer Şurup 250 ml, Sentiment: neutral, Review: ['damla', 'değil']\n",
      "14. Name: Microfer Şurup 250 ml, Sentiment: negative, Review: ['ürün', 'orjinal', 'ürün', 'değil', 'kesinlikle', 'almayın', 'paranıza', 'yazık', 'iade', 'yapacağım', '1', 'yıldızı', 'bile', 'hak', 'etmiyor', 'yayınlanması', '1', 'yıldız', 'verdim', 'fotoğraflarda', 'göründüğü', 'şurup', 'değil', 'çamur']\n",
      "15. Name: Microfer Şurup 250 ml, Sentiment: negative, Review: ['çocuklara', 'içirmek', 'zor', 'tadı', 'kötü', 'umarım', 'faydasını', 'görürüz']\n",
      "16. Name: Microfer Şurup 250 ml, Sentiment: positive, Review: ['güzel', 'ürün', 'uygun', 'fiyat', 'teşekkürler']\n",
      "17. Name: Microfer Şurup 250 ml, Sentiment: negative, Review: ['ben', 'kendim', 'aldım', 'çocuklara', 'içirmek', 'zor', 'olur', 'geldi', 'demir', 'tadı', 'ağza', 'yayılıyor', 'kötü', 'hissettiriyor', 'portakal', 'suyuna', 'karıştırılarak', 'kullanılabilir', 'yetişkinlerde', '25', 'ml', 'günlük', 'ihtiyacı', 'tam', 'karşılamıyor', 'arada']\n",
      "18. Name: Microfer Şurup 250 ml, Sentiment: neutral, Review: ['hızlı', 'geldi', 'tadi', 'güzel', 'dişleri', 'boyar', 'mi', 'göreceğiz', 'zamanla', 'edit', 'yazarım']\n",
      "19. Name: Microfer Şurup 250 ml, Sentiment: neutral, Review: ['oglumun', 'demir', 'depolarinda', 'eksiklik', 'var', '2', 'yasinda', 'doktor', 'tavsiyesiyle', 'aldim', 'hergun', 'ac', 'karnina', '1', 'tatli', 'kasigi', 'veriyorum', 'umarim', 'iyi', 'gelirpaketleme', 'ozenliydi', 'oglum', 'bazen', 'itiraz', 'ediyor', 'icerken', 'cogunlukla', 'rahat', 'icirebiliyorum']\n",
      "20. Name: V-effer C 1000mg 20 Tablet, Sentiment: positive, Review: ['tadı', 'güzel', 'iyi', 'hissettiriyor', 'paketleme', 'özenliydi']\n",
      "21. Name: V-effer C 1000mg 20 Tablet, Sentiment: neutral, Review: ['tadı', 'redoxon', 'kıyaslarsak', 'kötü', 'fiyatı', 'gayet', 'iyi', 'etkisini', 'şimdilik', 'farketmedim']\n",
      "22. Name: V-effer C 1000mg 20 Tablet, Sentiment: positive, Review: ['ürünü', 'devamlı', 'kullanıyoruz', 'piyasadaki', 'güzel', 'c', 'vitamini']\n",
      "23. Name: V-effer C 1000mg 20 Tablet, Sentiment: negative, Review: ['satıcının', 'özensizliğinden', 'kaynaklandığını', 'düşünüyorum', 'ilk', 'başıma', 'geliyor', '5', 'kutu', 'vitaminden', 'ikisi', 'kırılmış', 'tabletler', 'poşetin', 'içine', 'dağılmış', 'olarak', 'geldi']\n",
      "24. Name: V-effer C 1000mg 20 Tablet, Sentiment: negative, Review: ['ürün', 'elime', 'geç', 'geçtiayrica', '3', 'tane', 'sipariş', 'etmiştimbir', 'tanesinin', 'alt', 'kısmı', 'açık', 'geldi']\n",
      "25. Name: V-effer C 1000mg 20 Tablet, Sentiment: positive, Review: ['sağlam', 'paketleme', 'hızlı', 'kargo', 'teşekkürler', 'ürün', 'destek', 'takviye', 'olarak', 'başarılı']\n",
      "26. Name: V-effer C 1000mg 20 Tablet, Sentiment: negative, Review: ['fazla', 'seker', 'içeriyor', 'bir', 'tercih', 'etmem', 'bir', 'takviyenin', 'seker', 'icermesi', 'mantiklı', 'degil']\n",
      "27. Name: 2'li Paket Vitamin D3 1000 Iu 20 Ml Bitkisel Kaynaklı 500 Damla, Sentiment: positive, Review: ['ürünün', 'tamamen', 'bitkisel', 'olması', 'tatlandırıcı', 'içermemesi', 'zeytinyağı', 'içerikli', 'olması', 'nedeniyle', 'gönül', 'rahatlığıyla', 'kullanıyorum', 'tavsiye', 'ediyorum', 'serum', 'şeklinde', 'oluşundan', 'dolayı', 'kullanımı', 'kolay', 'tatlandırıcı', 'içermemesi', 'zaten', 'efsane', 'içimi', 'güzel', 'zorlanmadan', 'kullanıyorum', 'kargo', 'hızlı', 'paketlemede', 'özenliydi', 'teşekkürler', 'linova', 'teşekkürler', 'sun', 'dex']\n",
      "28. Name: 2'li Paket Vitamin D3 1000 Iu 20 Ml Bitkisel Kaynaklı 500 Damla, Sentiment: positive, Review: ['d', 'vitamini', 'ürün', 'araştırırken', 'tavsiye', 'üzerine', 'ürünü', 'gördüm', 'd', 'vitaminin', 'etkili', 'formunun', 'zeytinyağı', 'olduğunu', 'okumuştum', 'fakat', 'formatta', 'bir', 'ürüne', 'rastlamamıştım', 'hızlı', 'kargo', 'ilgili', 'satıcı', 'teşekkür', 'ederim']\n",
      "29. Name: 2'li Paket Vitamin D3 1000 Iu 20 Ml Bitkisel Kaynaklı 500 Damla, Sentiment: positive, Review: ['ürün', 'güzel', 'paketlenmişti', 'hemen', 'elime', 'ulaştı', 'zararlı', 'maddeler', 'içermeyen', 'vitamini', 'güvenilir', 'ilgili', 'satıcıdan', 'temin', 'edebilirsiniz', 'gönül', 'rahatlığıyla']\n",
      "30. Name: 2'li Paket Vitamin D3 1000 Iu 20 Ml Bitkisel Kaynaklı 500 Damla, Sentiment: neutral, Review: ['valla', 'aldım', 'almasına', 'gidip', 'd', 'vitamin', 'seviyesini', 'ölçtürmediğim', 'kadar', 'etkili', 'bir', 'söylemem', 'zor', 'tadı', 'rahatsız', 'edici', 'değil', 'diyebileceğim']\n",
      "31. Name: Full Mix Multi Vm 150 Ml, Sentiment: positive, Review: ['çocuğuma', 'faydası', 'oldu', 'güzel', 'ürün']\n",
      "32. Name: Full Mix Multi Vm 150 Ml, Sentiment: positive, Review: ['güzel', 'kargolanmış', 'hızlı', 'geldi', 'teşekkürler', 'önce', '2', 'yaşındaki', 'oğluma', 'kullanmıştım', 'faydasını', 'gördüm', 'iştah', 'açma', 'özelliği', 'kullanıyorum']\n",
      "33. Name: Full Mix Multi Vm 150 Ml, Sentiment: positive, Review: ['şurup', 'güzeliçeriği', 'zengin', 'çocuğum', 'tadını', 'seviyor']\n",
      "34. Name: Full Mix Multi Vm 150 Ml, Sentiment: negative, Review: ['hic', 'bi', 'yaramadi', 'bizde']\n",
      "35. Name: Full Mix Multi Vm 150 Ml, Sentiment: positive, Review: ['gercekten', 'faydali', 'bir', 'şurup', 'cok', 'memnun', 'kaldigim', 'icin', 'ikinci', 'seferdir', 'aliyorum']\n",
      "36. Name: Full Mix Multi Vm 150 Ml, Sentiment: negative, Review: ['bizde', 'iştah', 'açısından', 'işe', 'yaramadı', 'nutrigen', 'üzüm', 'çekirdeği', 'etkili', 'oldu']\n",
      "37. Name: Full Mix Multi Vm 150 Ml, Sentiment: neutral, Review: ['ürün', 'güzel', 'kokusu', 'güzel', 'iştah', 'açıcılığında', 'pek', 'emin', 'değilim', 'alınabilir']\n",
      "38. Name: Shiffa Home Shiffahome Sarı Kantaron 560mg 60 Kapsül, Sentiment: positive, Review: ['faydasını', 'gördükmideyi', 'rahatlatıyorsakinlestirici', 'etkisi', 'var']\n",
      "39. Name: Shiffa Home Shiffahome Sarı Kantaron 560mg 60 Kapsül, Sentiment: negative, Review: ['faydası', 'oluyor', 'gibiydi', 'fakat', 'uykusunu', 'getiriyor', 'insanın', 'ben', 'güvenlik', 'görevlisi', 'olduğum', 'mecburen', 'bırakmak', 'zorunda', 'kaldım']\n",
      "40. Name: Shiffa Home Shiffahome Sarı Kantaron 560mg 60 Kapsül, Sentiment: positive, Review: ['bir', 'haftadır', 'kullanıyorum', 'rahatlatıyor', 'sakinleştiriyor']\n",
      "41. Name: Shiffa Home Shiffahome Sarı Kantaron 560mg 60 Kapsül, Sentiment: negative, Review: ['uykusuzluk', 'çeken', 'yakın', 'akrabam', 'aldım', 'ilk', 'başlarda', 'iyidi', 'sonradan', 'uyku', 'problemi', 'devam', 'etti']\n",
      "42. Name: Shiffa Home Shiffahome Sarı Kantaron 560mg 60 Kapsül, Sentiment: neutral, Review: ['fena', 'değil']\n",
      "43. Name: Shiffa Home Shiffahome Sarı Kantaron 560mg 60 Kapsül, Sentiment: neutral, Review: ['bilemedim', 'etkısını', 'kullandım', 'bi', 'sure', 'ıyı', 'yadda', 'kotu', 'dıyemem', 'yagını', 'ıcmek', 'ucuz']\n",
      "44. Name: Shiffa Home Shiffahome Sarı Kantaron 560mg 60 Kapsül, Sentiment: neutral, Review: ['pek', 'işe', 'yaramadı', 'bende', 'bilmiyorum', 'düzenli', 'kullanmak', 'lazımdır', 'hemen', 'etki', 'etmiyor', 'sanırım', 'bir', 'antidepresanla', 'kullanmamak', 'gerekiyormuş', 'doktorum', 'içme', 'dedi', 'ben', 'görümceme', 'verdim']\n",
      "45. Name: Shiffa Home Shiffahome Sarı Kantaron 560mg 60 Kapsül, Sentiment: positive, Review: ['ergen', 'kızım', 'kullanıyoruz', 'uyku', 'bozukluğuna', 'ashabi', 'durumuna', 'gayet', 'iyi', 'geliyorteşekkürler']\n",
      "46. Name: Shiffa Home Shiffahome Sarı Kantaron 560mg 60 Kapsül, Sentiment: neutral, Review: ['düzenli', 'kullanmadığım', 'mi', 'bilmiyorum', 'cok', 'faydasını', 'göremedim', 'sınav', 'zamanımda', 'stresımı', 'azaltması', 'icin', 'almıstım', 'uyku', 'yapıyor', 'gündüz', 'icmenizi', 'tavsiye', 'ediyorum']\n",
      "47. Name: Shiffa Home Shiffahome Sarı Kantaron 560mg 60 Kapsül, Sentiment: negative, Review: ['midemi', 'kötü', 'yaptı']\n",
      "48. Name: Shiffa Home Shiffahome Sarı Kantaron 560mg 60 Kapsül, Sentiment: positive, Review: ['paketleme', 'güzeldi', 'biraz', 'geç', 'geldi', 'olsun', 'tavsiye', 'ederim']\n",
      "49. Name: Vitamin B1 Thiamin 100 Mg 100 Kapsül, Sentiment: positive, Review: ['beyin', 'sisi', 'kullandığım', 'bir', 'vitamin', 'doktorum', 'tavsiye', 'etmişti', 'faydasını', 'gördüm']\n",
      "50. Name: Vitamin B1 Thiamin 100 Mg 100 Kapsül, Sentiment: neutral, Review: ['yeni', 'kullanmaya', 'başladım']\n",
      "51. Name: Vitamin B1 Thiamin 100 Mg 100 Kapsül, Sentiment: negative, Review: ['içtikten', 'sonra', 'tuhaf', 'bir', 'koku', 'bırakıyor']\n",
      "52. Name: Vitamin B1 Thiamin 100 Mg 100 Kapsül, Sentiment: neutral, Review: ['ürün', 'elime', 'ulaştı', 'kullanıp', 'faydası', 'olup', 'olmadığına', 'ona', 'göre', 'karar', 'verecegim']\n",
      "53. Name: Vitamin B1 Thiamin 100 Mg 100 Kapsül, Sentiment: positive, Review: ['solgar', 'konuda', '10', 'numara']\n",
      "54. Name: Vitamin B1 Thiamin 100 Mg 100 Kapsül, Sentiment: neutral, Review: ['deneyip', 'fayda', 'görürsem', 'yorumumu', 'guncellerim', 'şimdilik', 'bir', 'heves', 'aldık', 'bakalım']\n",
      "55. Name: Vitamin B1 Thiamin 100 Mg 100 Kapsül, Sentiment: positive, Review: ['beyin', 'damarlarimda', 'tıkanma', 'oldu', 'doktor', 'tavsiyesi', 'aldım', 'tikanmadan', 'dolayı', 'dengesizlik', 'görme', 'bozukluğu', 'vardı', 'bayağı', 'düzeldi', 'kullandığımdan', 'yana', 'dengesizliğin', 'bayağı', 'azaldı', 'benim', 'olanlara', 'tavsiye', 'ederim']\n",
      "56. Name: Vitamin B1 Thiamin 100 Mg 100 Kapsül, Sentiment: positive, Review: ['babam', 'aldık', 'ameliyat', 'sonrası', 'iyi', 'geldi']\n",
      "57. Name: Vitamin B12 ( Metilkobalamin ) 1000 Mcg 120 Tablet, Sentiment: positive, Review: ['güzel', 'bir', 'takviye']\n",
      "58. Name: Vitamin B12 ( Metilkobalamin ) 1000 Mcg 120 Tablet, Sentiment: positive, Review: ['cook', 'iyi', 'gerçekten', 'etkili', 'vitamin', 'çocuklrim', 'aldim']\n",
      "59. Name: Vitamin B12 ( Metilkobalamin ) 1000 Mcg 120 Tablet, Sentiment: negative, Review: ['etkisiz']\n",
      "60. Name: Vitamin B12 ( Metilkobalamin ) 1000 Mcg 120 Tablet, Sentiment: positive, Review: ['güzel', 'beğendim']\n",
      "61. Name: Vitamin B12 ( Metilkobalamin ) 1000 Mcg 120 Tablet, Sentiment: positive, Review: ['güzel', 'faydalı']\n",
      "62. Name: Vitamin B12 ( Metilkobalamin ) 1000 Mcg 120 Tablet, Sentiment: positive, Review: ['ürün', 'guzel']\n",
      "63. Name: Şurup 100 Ml, Sentiment: positive, Review: ['kızım', 'kullanıyoruz', 'memnunuz', '3', 'şişemiz']\n",
      "64. Name: Şurup 100 Ml, Sentiment: negative, Review: ['ürün', 'gerçek', 'değil', 'düşük', 'kalite', 'olanı', 'önce', 'kullandıklarımız', 'açık', 'renkli', 'su', 'gibiydi', 'kıpkırmızı', 'şurup', 'bir', 'içeriğinde', 'başta', 'şeker', 'yazıyor', 'bebek', 'alıyoruz', 'bunu', 'düşük', 'kalite', 'olanıysa', 'yazık']\n",
      "65. Name: Şurup 100 Ml, Sentiment: neutral, Review: ['kararsızım', '3', 'yaş', 'kızım', 'aldım', 'tadını', 'beğenmedi', 'zorla', 'içiyor', 'pek', 'bir', 'etkide', 'gördüğümü', 'söyleyemiyeceğim']\n",
      "66. Name: Şurup 100 Ml, Sentiment: negative, Review: ['cocuk', 'dokrorumuzun', 'önerisyle', 'aldık', 'tadı', 'biraz', 'kötü']\n",
      "67. Name: Şurup 100 Ml, Sentiment: positive, Review: ['kizim', 'yaz', 'boyu', 'kullandi', 'denize', 'girerken', 'cok', 'usudugu', 'halde', 'hic', 'hasta', 'olmadi', 'simdi', 'kis', 'icin', 'devam']\n",
      "68. Name: Şurup 100 Ml, Sentiment: positive, Review: ['kızım', 'sık', 'sık', 'alıyorum', 'faydasını', 'gördük', 'bağışıklık', 'yükseltici', 'hastalıklara', 'karşı', 'koruyor', 'belli', 'aralıklarla', 'kullanmak', 'gerek']\n",
      "69. Name: Şurup 100 Ml, Sentiment: neutral, Review: ['dr', 'tavsiyesiyle', 'ürünü', 'aldım', 'faydası', 'olur', 'zamanla', 'bakacağız']\n",
      "70. Name: Şurup 100 Ml, Sentiment: neutral, Review: ['ürünü', 'doktor', 'tavsiyesi', 'aldım', 'bagışıklık', 'kuvvetlendirici', 'olarak', 'kargo', 'hızlı', 'geldi', 'deneyip', 'göreceğiz']\n",
      "71. Name: Şurup 100 Ml, Sentiment: negative, Review: ['pek', 'bir', 'faydası', 'var', 'diyemiyorum', 'göremedim', 'faydasını']\n",
      "72. Name: Şurup 100 Ml, Sentiment: positive, Review: ['yararlı']\n",
      "73. Name: Şurup 100 Ml, Sentiment: positive, Review: ['tavsiye', 'ediyorum', 'gayet', 'kaliteli', 'ürün']\n",
      "74. Name: Vitagil Multivitamin Mineral Şurup 250 ml, Sentiment: positive, Review: ['çocuğuma', 'aldim', 'cok', 'faydali']\n",
      "75. Name: Vitagil Multivitamin Mineral Şurup 250 ml, Sentiment: positive, Review: ['sürekli', 'kullandığım', 'bir', 'vitamin', 'önerilir']\n",
      "76. Name: Vitagil Multivitamin Mineral Şurup 250 ml, Sentiment: positive, Review: ['devamlı', 'kullandığımız', 'etkili', 'bir', 'vitamin', 'tavsiye', 'ederim']\n",
      "77. Name: Vitagil Multivitamin Mineral Şurup 250 ml, Sentiment: positive, Review: ['5', 'yaşındaki', 'kızım', 'aldım', 'gerçekten', 'faydası', 'var', 'iştahı', 'açıldısorunsuz', 'yemek', 'yiyor']\n",
      "78. Name: Vitagil Multivitamin Mineral Şurup 250 ml, Sentiment: positive, Review: ['iyi', 'çocuklarımın', 'ıkısınede', 'kullanıyorum', 'memnunum']\n",
      "79. Name: Vitagil Multivitamin Mineral Şurup 250 ml, Sentiment: neutral, Review: ['denemek', 'aldım']\n",
      "80. Name: Ester-c 1000 Mg 60 Tabet, Sentiment: positive, Review: ['düzenli', 'kullandığım', 'bir', 'ürün', 'c', 'vitamini', 'olarak', 'super']\n",
      "81. Name: Ester-c 1000 Mg 60 Tabet, Sentiment: positive, Review: ['kış', 'ayları', 'mükemmel', 'bi', 'takviye']\n",
      "82. Name: Ester-c 1000 Mg 60 Tabet, Sentiment: positive, Review: ['c', 'vitamini', 'faydalı', 'emilimi', 'fazla', 'olduğu', 'ester', 'c', 'tercih', 'etmek', 'gerekiyormuş', 'marka', 'iyi', 'katkısız', 'koruyucusuz']\n",
      "83. Name: Ester-c 1000 Mg 60 Tabet, Sentiment: positive, Review: ['kaliteli', 'katkısız', 'ürün']\n",
      "84. Name: Ester-c 1000 Mg 60 Tabet, Sentiment: negative, Review: ['urunu', 'yutmak', 'oldukca', 'zor', 'haplar', 'cok', 'buyuk', 'ben', 'ikiye', 'bolup', 'gun', 'icinde', '2', 'iciyorum', 'mideyi', 'yormuyor', 'bir', 'markayi', 'tercih', 'etmem', 'muhtemelen']\n",
      "85. Name: Ester-c 1000 Mg 60 Tabet, Sentiment: negative, Review: ['tabletlerin', 'boyutu', 'büyük', 'yutarken', 'bogulacakmis', 'oluyorum', 'keşke', 'biraz', 'büyük', 'olsalarmış']\n",
      "86. Name: Ester-c 1000 Mg 60 Tabet, Sentiment: negative, Review: ['bir', 'etkisini', 'göremediğim', 'icin', '1', 'yıldız', 'veriyorum']\n",
      "87. Name: Ester-c 1000 Mg 60 Tabet, Sentiment: positive, Review: ['uzun', 'zamandır', 'kullanıyorum', 'memnunum', 'enerjim', 'düşüktü', 'uyukluyordum', 'bitti', 'gitti']\n",
      "88. Name: Ester-c 1000 Mg 60 Tabet, Sentiment: positive, Review: ['kesinlikle', 'tavsiye', 'ederim']\n",
      "89. Name: Kangavites Vitamin C 100 Mg 90 Çiğneme Tableti, Sentiment: positive, Review: ['çocuklarım', 'kullanıyorum', 'güvendiğim', 'tek', 'marka']\n",
      "90. Name: Kangavites Vitamin C 100 Mg 90 Çiğneme Tableti, Sentiment: positive, Review: ['tadını', 'çocuklarım', 'cok', 'seviyor']\n",
      "91. Name: Kangavites Vitamin C 100 Mg 90 Çiğneme Tableti, Sentiment: positive, Review: ['çocuklar', 'bayıldılar', 'artık', 'vitaminden', 'alalım', 'diyorlar']\n",
      "92. Name: Kangavites Vitamin C 100 Mg 90 Çiğneme Tableti, Sentiment: positive, Review: ['lezzetli', 'cocuklar', 'severek', 'yiyor']\n",
      "93. Name: Kangavites Vitamin C 100 Mg 90 Çiğneme Tableti, Sentiment: negative, Review: ['çiğneme', 'tableti', 'ancak', 'tadi', 'cok', 'kotu', 'kizim', 'sevmedi']\n",
      "94. Name: Kids Multivitamin Şurup 150 ml 2 Adet, Sentiment: positive, Review: ['doktorumuzun', 'tavsiyesiyle', 'aldık', 'severek', 'içiyor', 'çocuklar']\n",
      "95. Name: Kids Multivitamin Şurup 150 ml 2 Adet, Sentiment: positive, Review: ['ilk', 'şişe', 'hemen', 'bitti', 'iyi', '2', 'şişe', 'birden', 'almışım', 'oğluö', 'severek', 'içiyor']\n",
      "96. Name: Kids Multivitamin Şurup 150 ml 2 Adet, Sentiment: negative, Review: ['iyi', 'bir', 'şurup', 'genel', 'olarak', 'maalesef', 'benim', 'kızım', 'sevmedi', 'tadı', 'zorla', 'veriyoruz']\n",
      "97. Name: Kids Multivitamin Şurup 150 ml 2 Adet, Sentiment: positive, Review: ['kardeşim', 'aldım', 'tadını', 'sevdi', '2', 'şişe', 'bitirdi']\n",
      "98. Name: Kids Multivitamin Şurup 150 ml 2 Adet, Sentiment: positive, Review: ['8', 'yaşında', 'kılın', '1', 'yemek', 'kaşığı', 'veriyorum', 'ben', 'memnunum', 'severek', 'içiyor', 'bağışıklığını', 'güçlendirdiğini', 'düşünüyorum']\n",
      "99. Name: Kids Multivitamin Şurup 150 ml 2 Adet, Sentiment: positive, Review: ['2ciyi', 'kullaniyorum', 'etkilerinide', 'hemen', 'gosterdi', 'istahsizligi', 'vardi', 'duzeldi']\n",
      "100. Name: Newlıfe Natur D3 Spray 1000 Iu 20 ml, Sentiment: positive, Review: ['güzel', 'bir', 'ürün', 'hamileyim', 'doktorun', 'önerisiyle', 'aldım']\n"
     ]
    }
   ],
   "source": [
    "for i, review in enumerate(labeled_data[:100]):\n",
    "    print(f\"{i + 1}. Name: {review['name']}, Sentiment: {review['sentiment']}, Review: {review['tokens']}\")"
   ]
  }
 ],
 "metadata": {
  "kernelspec": {
   "display_name": "Python 3",
   "language": "python",
   "name": "python3"
  },
  "language_info": {
   "codemirror_mode": {
    "name": "ipython",
    "version": 3
   },
   "file_extension": ".py",
   "mimetype": "text/x-python",
   "name": "python",
   "nbconvert_exporter": "python",
   "pygments_lexer": "ipython3",
   "version": "3.12.6"
  }
 },
 "nbformat": 4,
 "nbformat_minor": 2
}
